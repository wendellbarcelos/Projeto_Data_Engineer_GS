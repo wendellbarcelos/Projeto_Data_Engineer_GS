{
 "cells": [
  {
   "cell_type": "code",
   "execution_count": 1,
   "metadata": {},
   "outputs": [
    {
     "data": {
      "text/html": [
       "<style>.container { width:95% !important; }</style>"
      ],
      "text/plain": [
       "<IPython.core.display.HTML object>"
      ]
     },
     "metadata": {},
     "output_type": "display_data"
    }
   ],
   "source": [
    "from IPython.core.display import display, HTML\n",
    "display(HTML(\"<style>.container { width:95% !important; }</style>\"))"
   ]
  },
  {
   "cell_type": "markdown",
   "metadata": {},
   "source": [
    "# Data Engineer\n",
    "\n",
    "Desafio Técnico: GS Labs - Vaga Python - Ciência de Dados\n",
    "\n",
    "Todo ano o Stack Overflow faz uma pesquisa com sua comunidade de desenvolvedores sobre vários temas, que vão desde as suas preferências tecnológicas até questões profissionais. Seu desafio é nos ajudar a responder algumas perguntas usando os resultados de uma destas pesquisas.\n",
    "\n"
   ]
  },
  {
   "cell_type": "markdown",
   "metadata": {},
   "source": [
    "## Questões de Negócio\n",
    "   * Responder algumas perguntas usando os resultados da pesquisa do Stack Overflow\n",
    "   \n",
    "&nbsp;\n",
    "1. Você deve usar Python para ler esse arquivo, processá-lo de acordo com as regras de negócio descritas abaixo e depois inserir esses dados em um banco de dados PostgreSQL, após responder as questões abaixo será necessario colocar em um banco de dados.\n",
    "\n",
    "    * Salário vazio ou com valor \"NA\" deve ser convertido para zero (0.0).\n",
    "    \n",
    "    &nbsp;\n",
    "    * Salário deve ser sempre calculado em reais e mensal. Para esse cálculo você usará a coluna ConvertedSalary, que contém o salário anual. Considere que 1 dólar equivale a RS5,6.\n",
    "    \n",
    "    &nbsp;\n",
    "    * O nome dos respondentes deve seguir a regra respondente_[número] . (ex: respondente_1, respondente_2, respondente_3). O critério de geração desse número é todo seu.\n",
    "    \n",
    "    &nbsp;\n",
    "    * Cada linha da tabela linguagem_programacao deve conter uma única linguagem de programação.\n",
    "    \n",
    "    &nbsp;\n",
    "    * Cada linha da tabela ferramenta_comunic deve conter apenas uma ferramenta de comunicação.\n",
    "    \n",
    "    &nbsp;\n",
    "    * É importante notar que em alguns campos de respostas existem múltiplos resultados, como por exemplo na coluna LanguageWorkedWith, que contém várias linguagens de programação em uma linha. Nestes casos, você deve quebrar a string nos pontos que existem ponto-e-vírgula (\";\").\n",
    "    \n",
    "&nbsp;\n",
    "\n",
    "\n",
    "2. Realizar consultas no banco de dados para responder as perguntas:\n",
    "\n",
    "    * Qual a quantidade de respondentes de cada país?\n",
    "    \n",
    "    &nbsp;\n",
    "    * Quantos usuários que moram em \"United States\" gostam de Windows?\n",
    "    \n",
    "    &nbsp;\n",
    "    * Qual a média de salário dos usuários que moram em Israel e gostam de Linux?\n",
    "    \n",
    "    &nbsp;\n",
    "    * Qual a média e o desvio padrão do salário dos usuários que usam Slack para cada tamanho de empresa disponível?\n",
    "    \n",
    "    \n",
    "     \n",
    "    \n"
   ]
  },
  {
   "cell_type": "code",
   "execution_count": 2,
   "metadata": {},
   "outputs": [],
   "source": [
    "# Importações de pacotes\n",
    "import numpy as np\n",
    "import pandas as pd\n",
    "import matplotlib.pyplot as plt"
   ]
  },
  {
   "cell_type": "code",
   "execution_count": 3,
   "metadata": {},
   "outputs": [],
   "source": [
    "# Carregando dataset\n",
    "data = pd.read_csv('datasets/base_de_respostas_10k_amostra.csv')\n",
    "\n",
    "# Formatação das casas decimal\n",
    "pd.set_option('display.float_format', lambda x: '%.3f' % x)  "
   ]
  },
  {
   "cell_type": "code",
   "execution_count": 4,
   "metadata": {
    "scrolled": false
   },
   "outputs": [
    {
     "data": {
      "text/html": [
       "<div>\n",
       "<style scoped>\n",
       "    .dataframe tbody tr th:only-of-type {\n",
       "        vertical-align: middle;\n",
       "    }\n",
       "\n",
       "    .dataframe tbody tr th {\n",
       "        vertical-align: top;\n",
       "    }\n",
       "\n",
       "    .dataframe thead th {\n",
       "        text-align: right;\n",
       "    }\n",
       "</style>\n",
       "<table border=\"1\" class=\"dataframe\">\n",
       "  <thead>\n",
       "    <tr style=\"text-align: right;\">\n",
       "      <th></th>\n",
       "      <th>Respondent</th>\n",
       "      <th>Hobby</th>\n",
       "      <th>OpenSource</th>\n",
       "      <th>Country</th>\n",
       "      <th>Student</th>\n",
       "      <th>Employment</th>\n",
       "      <th>FormalEducation</th>\n",
       "      <th>UndergradMajor</th>\n",
       "      <th>CompanySize</th>\n",
       "      <th>DevType</th>\n",
       "      <th>...</th>\n",
       "      <th>Exercise</th>\n",
       "      <th>Gender</th>\n",
       "      <th>SexualOrientation</th>\n",
       "      <th>EducationParents</th>\n",
       "      <th>RaceEthnicity</th>\n",
       "      <th>Age</th>\n",
       "      <th>Dependents</th>\n",
       "      <th>MilitaryUS</th>\n",
       "      <th>SurveyTooLong</th>\n",
       "      <th>SurveyEasy</th>\n",
       "    </tr>\n",
       "  </thead>\n",
       "  <tbody>\n",
       "    <tr>\n",
       "      <th>0</th>\n",
       "      <td>101346</td>\n",
       "      <td>No</td>\n",
       "      <td>No</td>\n",
       "      <td>United States</td>\n",
       "      <td>No</td>\n",
       "      <td>Employed full-time</td>\n",
       "      <td>Bachelor’s degree (BA, BS, B.Eng., etc.)</td>\n",
       "      <td>A business discipline (ex. accounting, finance...</td>\n",
       "      <td>100 to 499 employees</td>\n",
       "      <td>Back-end developer</td>\n",
       "      <td>...</td>\n",
       "      <td>Daily or almost every day</td>\n",
       "      <td>Female</td>\n",
       "      <td>Straight or heterosexual</td>\n",
       "      <td>Bachelor’s degree (BA, BS, B.Eng., etc.)</td>\n",
       "      <td>White or of European descent</td>\n",
       "      <td>45 - 54 years old</td>\n",
       "      <td>Yes</td>\n",
       "      <td>No</td>\n",
       "      <td>The survey was an appropriate length</td>\n",
       "      <td>Somewhat easy</td>\n",
       "    </tr>\n",
       "    <tr>\n",
       "      <th>1</th>\n",
       "      <td>44791</td>\n",
       "      <td>Yes</td>\n",
       "      <td>No</td>\n",
       "      <td>Germany</td>\n",
       "      <td>No</td>\n",
       "      <td>Employed full-time</td>\n",
       "      <td>Bachelor’s degree (BA, BS, B.Eng., etc.)</td>\n",
       "      <td>Computer science, computer engineering, or sof...</td>\n",
       "      <td>1,000 to 4,999 employees</td>\n",
       "      <td>Back-end developer;Desktop or enterprise appli...</td>\n",
       "      <td>...</td>\n",
       "      <td>3 - 4 times per week</td>\n",
       "      <td>Male</td>\n",
       "      <td>Straight or heterosexual</td>\n",
       "      <td>Other doctoral degree (Ph.D, Ed.D., etc.)</td>\n",
       "      <td>White or of European descent</td>\n",
       "      <td>25 - 34 years old</td>\n",
       "      <td>No</td>\n",
       "      <td>NaN</td>\n",
       "      <td>The survey was too long</td>\n",
       "      <td>Neither easy nor difficult</td>\n",
       "    </tr>\n",
       "    <tr>\n",
       "      <th>2</th>\n",
       "      <td>32306</td>\n",
       "      <td>Yes</td>\n",
       "      <td>Yes</td>\n",
       "      <td>United States</td>\n",
       "      <td>No</td>\n",
       "      <td>Employed full-time</td>\n",
       "      <td>Bachelor’s degree (BA, BS, B.Eng., etc.)</td>\n",
       "      <td>Computer science, computer engineering, or sof...</td>\n",
       "      <td>10,000 or more employees</td>\n",
       "      <td>Back-end developer;Front-end developer;Full-st...</td>\n",
       "      <td>...</td>\n",
       "      <td>1 - 2 times per week</td>\n",
       "      <td>Male</td>\n",
       "      <td>Straight or heterosexual</td>\n",
       "      <td>Bachelor’s degree (BA, BS, B.Eng., etc.)</td>\n",
       "      <td>White or of European descent</td>\n",
       "      <td>25 - 34 years old</td>\n",
       "      <td>No</td>\n",
       "      <td>No</td>\n",
       "      <td>The survey was an appropriate length</td>\n",
       "      <td>Somewhat easy</td>\n",
       "    </tr>\n",
       "    <tr>\n",
       "      <th>3</th>\n",
       "      <td>37142</td>\n",
       "      <td>Yes</td>\n",
       "      <td>No</td>\n",
       "      <td>United States</td>\n",
       "      <td>Yes, full-time</td>\n",
       "      <td>Employed part-time</td>\n",
       "      <td>Secondary school (e.g. American high school, G...</td>\n",
       "      <td>NaN</td>\n",
       "      <td>10 to 19 employees</td>\n",
       "      <td>Front-end developer;QA or test developer;Student</td>\n",
       "      <td>...</td>\n",
       "      <td>I don't typically exercise</td>\n",
       "      <td>Male</td>\n",
       "      <td>Straight or heterosexual</td>\n",
       "      <td>Master’s degree (MA, MS, M.Eng., MBA, etc.)</td>\n",
       "      <td>Hispanic or Latino/Latina;White or of European...</td>\n",
       "      <td>18 - 24 years old</td>\n",
       "      <td>No</td>\n",
       "      <td>No</td>\n",
       "      <td>The survey was an appropriate length</td>\n",
       "      <td>Very easy</td>\n",
       "    </tr>\n",
       "    <tr>\n",
       "      <th>4</th>\n",
       "      <td>21745</td>\n",
       "      <td>Yes</td>\n",
       "      <td>Yes</td>\n",
       "      <td>Nepal</td>\n",
       "      <td>No</td>\n",
       "      <td>Employed full-time</td>\n",
       "      <td>Bachelor’s degree (BA, BS, B.Eng., etc.)</td>\n",
       "      <td>Computer science, computer engineering, or sof...</td>\n",
       "      <td>20 to 99 employees</td>\n",
       "      <td>Back-end developer;Designer;Desktop or enterpr...</td>\n",
       "      <td>...</td>\n",
       "      <td>1 - 2 times per week</td>\n",
       "      <td>Male</td>\n",
       "      <td>Straight or heterosexual</td>\n",
       "      <td>Master’s degree (MA, MS, M.Eng., MBA, etc.)</td>\n",
       "      <td>South Asian</td>\n",
       "      <td>18 - 24 years old</td>\n",
       "      <td>No</td>\n",
       "      <td>NaN</td>\n",
       "      <td>The survey was too long</td>\n",
       "      <td>Somewhat easy</td>\n",
       "    </tr>\n",
       "  </tbody>\n",
       "</table>\n",
       "<p>5 rows × 129 columns</p>\n",
       "</div>"
      ],
      "text/plain": [
       "   Respondent Hobby OpenSource        Country         Student  \\\n",
       "0      101346    No         No  United States              No   \n",
       "1       44791   Yes         No        Germany              No   \n",
       "2       32306   Yes        Yes  United States              No   \n",
       "3       37142   Yes         No  United States  Yes, full-time   \n",
       "4       21745   Yes        Yes          Nepal              No   \n",
       "\n",
       "           Employment                                    FormalEducation  \\\n",
       "0  Employed full-time           Bachelor’s degree (BA, BS, B.Eng., etc.)   \n",
       "1  Employed full-time           Bachelor’s degree (BA, BS, B.Eng., etc.)   \n",
       "2  Employed full-time           Bachelor’s degree (BA, BS, B.Eng., etc.)   \n",
       "3  Employed part-time  Secondary school (e.g. American high school, G...   \n",
       "4  Employed full-time           Bachelor’s degree (BA, BS, B.Eng., etc.)   \n",
       "\n",
       "                                      UndergradMajor  \\\n",
       "0  A business discipline (ex. accounting, finance...   \n",
       "1  Computer science, computer engineering, or sof...   \n",
       "2  Computer science, computer engineering, or sof...   \n",
       "3                                                NaN   \n",
       "4  Computer science, computer engineering, or sof...   \n",
       "\n",
       "                CompanySize  \\\n",
       "0      100 to 499 employees   \n",
       "1  1,000 to 4,999 employees   \n",
       "2  10,000 or more employees   \n",
       "3        10 to 19 employees   \n",
       "4        20 to 99 employees   \n",
       "\n",
       "                                             DevType  ...  \\\n",
       "0                                 Back-end developer  ...   \n",
       "1  Back-end developer;Desktop or enterprise appli...  ...   \n",
       "2  Back-end developer;Front-end developer;Full-st...  ...   \n",
       "3   Front-end developer;QA or test developer;Student  ...   \n",
       "4  Back-end developer;Designer;Desktop or enterpr...  ...   \n",
       "\n",
       "                     Exercise  Gender         SexualOrientation  \\\n",
       "0   Daily or almost every day  Female  Straight or heterosexual   \n",
       "1        3 - 4 times per week    Male  Straight or heterosexual   \n",
       "2        1 - 2 times per week    Male  Straight or heterosexual   \n",
       "3  I don't typically exercise    Male  Straight or heterosexual   \n",
       "4        1 - 2 times per week    Male  Straight or heterosexual   \n",
       "\n",
       "                              EducationParents  \\\n",
       "0     Bachelor’s degree (BA, BS, B.Eng., etc.)   \n",
       "1    Other doctoral degree (Ph.D, Ed.D., etc.)   \n",
       "2     Bachelor’s degree (BA, BS, B.Eng., etc.)   \n",
       "3  Master’s degree (MA, MS, M.Eng., MBA, etc.)   \n",
       "4  Master’s degree (MA, MS, M.Eng., MBA, etc.)   \n",
       "\n",
       "                                       RaceEthnicity                Age  \\\n",
       "0                       White or of European descent  45 - 54 years old   \n",
       "1                       White or of European descent  25 - 34 years old   \n",
       "2                       White or of European descent  25 - 34 years old   \n",
       "3  Hispanic or Latino/Latina;White or of European...  18 - 24 years old   \n",
       "4                                        South Asian  18 - 24 years old   \n",
       "\n",
       "  Dependents  MilitaryUS                         SurveyTooLong  \\\n",
       "0        Yes          No  The survey was an appropriate length   \n",
       "1         No         NaN               The survey was too long   \n",
       "2         No          No  The survey was an appropriate length   \n",
       "3         No          No  The survey was an appropriate length   \n",
       "4         No         NaN               The survey was too long   \n",
       "\n",
       "                   SurveyEasy  \n",
       "0               Somewhat easy  \n",
       "1  Neither easy nor difficult  \n",
       "2               Somewhat easy  \n",
       "3                   Very easy  \n",
       "4               Somewhat easy  \n",
       "\n",
       "[5 rows x 129 columns]"
      ]
     },
     "execution_count": 4,
     "metadata": {},
     "output_type": "execute_result"
    }
   ],
   "source": [
    "data.head()"
   ]
  },
  {
   "cell_type": "code",
   "execution_count": 5,
   "metadata": {},
   "outputs": [
    {
     "data": {
      "text/plain": [
       "['Respondent',\n",
       " 'Hobby',\n",
       " 'OpenSource',\n",
       " 'Country',\n",
       " 'Student',\n",
       " 'Employment',\n",
       " 'FormalEducation',\n",
       " 'UndergradMajor',\n",
       " 'CompanySize',\n",
       " 'DevType',\n",
       " 'YearsCoding',\n",
       " 'YearsCodingProf',\n",
       " 'JobSatisfaction',\n",
       " 'CareerSatisfaction',\n",
       " 'HopeFiveYears',\n",
       " 'JobSearchStatus',\n",
       " 'LastNewJob',\n",
       " 'AssessJob1',\n",
       " 'AssessJob2',\n",
       " 'AssessJob3',\n",
       " 'AssessJob4',\n",
       " 'AssessJob5',\n",
       " 'AssessJob6',\n",
       " 'AssessJob7',\n",
       " 'AssessJob8',\n",
       " 'AssessJob9',\n",
       " 'AssessJob10',\n",
       " 'AssessBenefits1',\n",
       " 'AssessBenefits2',\n",
       " 'AssessBenefits3',\n",
       " 'AssessBenefits4',\n",
       " 'AssessBenefits5',\n",
       " 'AssessBenefits6',\n",
       " 'AssessBenefits7',\n",
       " 'AssessBenefits8',\n",
       " 'AssessBenefits9',\n",
       " 'AssessBenefits10',\n",
       " 'AssessBenefits11',\n",
       " 'JobContactPriorities1',\n",
       " 'JobContactPriorities2',\n",
       " 'JobContactPriorities3',\n",
       " 'JobContactPriorities4',\n",
       " 'JobContactPriorities5',\n",
       " 'JobEmailPriorities1',\n",
       " 'JobEmailPriorities2',\n",
       " 'JobEmailPriorities3',\n",
       " 'JobEmailPriorities4',\n",
       " 'JobEmailPriorities5',\n",
       " 'JobEmailPriorities6',\n",
       " 'JobEmailPriorities7',\n",
       " 'UpdateCV',\n",
       " 'Currency',\n",
       " 'Salary',\n",
       " 'SalaryType',\n",
       " 'ConvertedSalary',\n",
       " 'CurrencySymbol',\n",
       " 'CommunicationTools',\n",
       " 'TimeFullyProductive',\n",
       " 'EducationTypes',\n",
       " 'SelfTaughtTypes',\n",
       " 'TimeAfterBootcamp',\n",
       " 'HackathonReasons',\n",
       " 'AgreeDisagree1',\n",
       " 'AgreeDisagree2',\n",
       " 'AgreeDisagree3',\n",
       " 'LanguageWorkedWith',\n",
       " 'LanguageDesireNextYear',\n",
       " 'DatabaseWorkedWith',\n",
       " 'DatabaseDesireNextYear',\n",
       " 'PlatformWorkedWith',\n",
       " 'PlatformDesireNextYear',\n",
       " 'FrameworkWorkedWith',\n",
       " 'FrameworkDesireNextYear',\n",
       " 'IDE',\n",
       " 'OperatingSystem',\n",
       " 'NumberMonitors',\n",
       " 'Methodology',\n",
       " 'VersionControl',\n",
       " 'CheckInCode',\n",
       " 'AdBlocker',\n",
       " 'AdBlockerDisable',\n",
       " 'AdBlockerReasons',\n",
       " 'AdsAgreeDisagree1',\n",
       " 'AdsAgreeDisagree2',\n",
       " 'AdsAgreeDisagree3',\n",
       " 'AdsActions',\n",
       " 'AdsPriorities1',\n",
       " 'AdsPriorities2',\n",
       " 'AdsPriorities3',\n",
       " 'AdsPriorities4',\n",
       " 'AdsPriorities5',\n",
       " 'AdsPriorities6',\n",
       " 'AdsPriorities7',\n",
       " 'AIDangerous',\n",
       " 'AIInteresting',\n",
       " 'AIResponsible',\n",
       " 'AIFuture',\n",
       " 'EthicsChoice',\n",
       " 'EthicsReport',\n",
       " 'EthicsResponsible',\n",
       " 'EthicalImplications',\n",
       " 'StackOverflowRecommend',\n",
       " 'StackOverflowVisit',\n",
       " 'StackOverflowHasAccount',\n",
       " 'StackOverflowParticipate',\n",
       " 'StackOverflowJobs',\n",
       " 'StackOverflowDevStory',\n",
       " 'StackOverflowJobsRecommend',\n",
       " 'StackOverflowConsiderMember',\n",
       " 'HypotheticalTools1',\n",
       " 'HypotheticalTools2',\n",
       " 'HypotheticalTools3',\n",
       " 'HypotheticalTools4',\n",
       " 'HypotheticalTools5',\n",
       " 'WakeTime',\n",
       " 'HoursComputer',\n",
       " 'HoursOutside',\n",
       " 'SkipMeals',\n",
       " 'ErgonomicDevices',\n",
       " 'Exercise',\n",
       " 'Gender',\n",
       " 'SexualOrientation',\n",
       " 'EducationParents',\n",
       " 'RaceEthnicity',\n",
       " 'Age',\n",
       " 'Dependents',\n",
       " 'MilitaryUS',\n",
       " 'SurveyTooLong',\n",
       " 'SurveyEasy']"
      ]
     },
     "execution_count": 5,
     "metadata": {},
     "output_type": "execute_result"
    }
   ],
   "source": [
    "list(data)"
   ]
  },
  {
   "cell_type": "code",
   "execution_count": 6,
   "metadata": {},
   "outputs": [
    {
     "data": {
      "text/plain": [
       "(10000, 129)"
      ]
     },
     "execution_count": 6,
     "metadata": {},
     "output_type": "execute_result"
    }
   ],
   "source": [
    "# Número de linhas e colunas\n",
    "data.shape"
   ]
  },
  {
   "cell_type": "code",
   "execution_count": 7,
   "metadata": {},
   "outputs": [
    {
     "name": "stdout",
     "output_type": "stream",
     "text": [
      "       Respondent  AssessJob1  AssessJob2  AssessJob3  AssessJob4  AssessJob5  \\\n",
      "count   10000.000    8053.000    8053.000    8053.000    8053.000    8053.000   \n",
      "mean    50621.383       6.464       6.728       5.906       4.062       3.787   \n",
      "std     29391.305       2.779       2.515       2.626       2.523       2.444   \n",
      "min        12.000       1.000       1.000       1.000       1.000       1.000   \n",
      "25%     24971.750       4.000       5.000       4.000       2.000       2.000   \n",
      "50%     50979.000       7.000       7.000       6.000       4.000       3.000   \n",
      "75%     75899.750       9.000       9.000       8.000       6.000       5.000   \n",
      "max    101581.000      10.000      10.000      10.000      10.000      10.000   \n",
      "\n",
      "       AssessJob6  AssessJob7  AssessJob8  AssessJob9  ...  \\\n",
      "count    8053.000    8053.000    8053.000    8053.000  ...   \n",
      "mean        4.335       5.689       4.222       7.692  ...   \n",
      "std         2.492       2.896       2.477       2.383  ...   \n",
      "min         1.000       1.000       1.000       1.000  ...   \n",
      "25%         2.000       3.000       2.000       6.000  ...   \n",
      "50%         4.000       6.000       4.000       8.000  ...   \n",
      "75%         6.000       8.000       6.000      10.000  ...   \n",
      "max        10.000      10.000      10.000      10.000  ...   \n",
      "\n",
      "       JobEmailPriorities6  JobEmailPriorities7  ConvertedSalary  \\\n",
      "count             5666.000             5666.000         7245.000   \n",
      "mean                 5.013                4.868        97142.335   \n",
      "std                  1.841                1.664       202201.272   \n",
      "min                  1.000                1.000            0.000   \n",
      "25%                  4.000                4.000        23796.000   \n",
      "50%                  5.000                5.000        54790.000   \n",
      "75%                  7.000                6.000        92250.000   \n",
      "max                  7.000                7.000      2000000.000   \n",
      "\n",
      "       AdsPriorities1  AdsPriorities2  AdsPriorities3  AdsPriorities4  \\\n",
      "count        7142.000        7142.000        7142.000        7142.000   \n",
      "mean            2.697           3.799           3.373           3.740   \n",
      "std             1.854           1.829           1.668           1.851   \n",
      "min             1.000           1.000           1.000           1.000   \n",
      "25%             1.000           2.000           2.000           2.000   \n",
      "50%             2.000           4.000           3.000           4.000   \n",
      "75%             4.000           5.000           5.000           5.000   \n",
      "max             7.000           7.000           7.000           7.000   \n",
      "\n",
      "       AdsPriorities5  AdsPriorities6  AdsPriorities7  \n",
      "count        7142.000        7142.000        7142.000  \n",
      "mean            4.394           5.186           4.810  \n",
      "std             1.934           1.827           1.874  \n",
      "min             1.000           1.000           1.000  \n",
      "25%             3.000           4.000           3.000  \n",
      "50%             5.000           6.000           5.000  \n",
      "75%             6.000           7.000           6.000  \n",
      "max             7.000           7.000           7.000  \n",
      "\n",
      "[8 rows x 42 columns]\n"
     ]
    }
   ],
   "source": [
    "print(data.describe())"
   ]
  },
  {
   "cell_type": "code",
   "execution_count": null,
   "metadata": {},
   "outputs": [],
   "source": []
  },
  {
   "cell_type": "code",
   "execution_count": 8,
   "metadata": {},
   "outputs": [],
   "source": [
    "# Verificando se há duplicidade\n",
    "data = data.drop_duplicates(subset='Respondent')"
   ]
  },
  {
   "cell_type": "code",
   "execution_count": null,
   "metadata": {},
   "outputs": [],
   "source": []
  },
  {
   "cell_type": "code",
   "execution_count": 9,
   "metadata": {},
   "outputs": [],
   "source": [
    "# Retirando caractere ','\n",
    "data.Salary = [str(x).replace(\",\", \"\") for x in data.Salary]"
   ]
  },
  {
   "cell_type": "code",
   "execution_count": null,
   "metadata": {},
   "outputs": [],
   "source": []
  },
  {
   "cell_type": "code",
   "execution_count": 10,
   "metadata": {},
   "outputs": [
    {
     "data": {
      "text/plain": [
       "dtype('float64')"
      ]
     },
     "execution_count": 10,
     "metadata": {},
     "output_type": "execute_result"
    }
   ],
   "source": [
    "#Convertendo a coluna de object para float\n",
    "data['Salary'] = data['Salary'].astype('float64')\n",
    "data['Salary'].dtypes"
   ]
  },
  {
   "cell_type": "code",
   "execution_count": null,
   "metadata": {},
   "outputs": [],
   "source": []
  },
  {
   "cell_type": "markdown",
   "metadata": {},
   "source": [
    "### 1- Salário vazio ou com valor \"NA\" deve ser convertido para zero (0.0)."
   ]
  },
  {
   "cell_type": "code",
   "execution_count": 11,
   "metadata": {},
   "outputs": [],
   "source": [
    "# Convertendo os valores NaN em 0 nas colunas Salary, SalaryType e ConvertedSalary\n",
    "data['Salary'].fillna(0.0, inplace=True)\n",
    "data['ConvertedSalary'].fillna(0.0, inplace=True)"
   ]
  },
  {
   "cell_type": "code",
   "execution_count": 12,
   "metadata": {},
   "outputs": [
    {
     "data": {
      "text/html": [
       "<div>\n",
       "<style scoped>\n",
       "    .dataframe tbody tr th:only-of-type {\n",
       "        vertical-align: middle;\n",
       "    }\n",
       "\n",
       "    .dataframe tbody tr th {\n",
       "        vertical-align: top;\n",
       "    }\n",
       "\n",
       "    .dataframe thead th {\n",
       "        text-align: right;\n",
       "    }\n",
       "</style>\n",
       "<table border=\"1\" class=\"dataframe\">\n",
       "  <thead>\n",
       "    <tr style=\"text-align: right;\">\n",
       "      <th></th>\n",
       "      <th>Salary</th>\n",
       "      <th>SalaryType</th>\n",
       "      <th>ConvertedSalary</th>\n",
       "    </tr>\n",
       "  </thead>\n",
       "  <tbody>\n",
       "    <tr>\n",
       "      <th>0</th>\n",
       "      <td>50000.000</td>\n",
       "      <td>NaN</td>\n",
       "      <td>50000.000</td>\n",
       "    </tr>\n",
       "    <tr>\n",
       "      <th>1</th>\n",
       "      <td>65000.000</td>\n",
       "      <td>Yearly</td>\n",
       "      <td>79552.000</td>\n",
       "    </tr>\n",
       "    <tr>\n",
       "      <th>2</th>\n",
       "      <td>125000.000</td>\n",
       "      <td>NaN</td>\n",
       "      <td>125000.000</td>\n",
       "    </tr>\n",
       "    <tr>\n",
       "      <th>3</th>\n",
       "      <td>0.000</td>\n",
       "      <td>NaN</td>\n",
       "      <td>0.000</td>\n",
       "    </tr>\n",
       "    <tr>\n",
       "      <th>4</th>\n",
       "      <td>0.000</td>\n",
       "      <td>NaN</td>\n",
       "      <td>0.000</td>\n",
       "    </tr>\n",
       "    <tr>\n",
       "      <th>...</th>\n",
       "      <td>...</td>\n",
       "      <td>...</td>\n",
       "      <td>...</td>\n",
       "    </tr>\n",
       "    <tr>\n",
       "      <th>9995</th>\n",
       "      <td>0.000</td>\n",
       "      <td>Monthly</td>\n",
       "      <td>0.000</td>\n",
       "    </tr>\n",
       "    <tr>\n",
       "      <th>9996</th>\n",
       "      <td>100000.000</td>\n",
       "      <td>Yearly</td>\n",
       "      <td>138904.000</td>\n",
       "    </tr>\n",
       "    <tr>\n",
       "      <th>9997</th>\n",
       "      <td>36000.000</td>\n",
       "      <td>Yearly</td>\n",
       "      <td>50005.000</td>\n",
       "    </tr>\n",
       "    <tr>\n",
       "      <th>9998</th>\n",
       "      <td>0.000</td>\n",
       "      <td>NaN</td>\n",
       "      <td>0.000</td>\n",
       "    </tr>\n",
       "    <tr>\n",
       "      <th>9999</th>\n",
       "      <td>43500.000</td>\n",
       "      <td>Yearly</td>\n",
       "      <td>53239.000</td>\n",
       "    </tr>\n",
       "  </tbody>\n",
       "</table>\n",
       "<p>10000 rows × 3 columns</p>\n",
       "</div>"
      ],
      "text/plain": [
       "         Salary SalaryType  ConvertedSalary\n",
       "0     50000.000        NaN        50000.000\n",
       "1     65000.000     Yearly        79552.000\n",
       "2    125000.000        NaN       125000.000\n",
       "3         0.000        NaN            0.000\n",
       "4         0.000        NaN            0.000\n",
       "...         ...        ...              ...\n",
       "9995      0.000    Monthly            0.000\n",
       "9996 100000.000     Yearly       138904.000\n",
       "9997  36000.000     Yearly        50005.000\n",
       "9998      0.000        NaN            0.000\n",
       "9999  43500.000     Yearly        53239.000\n",
       "\n",
       "[10000 rows x 3 columns]"
      ]
     },
     "execution_count": 12,
     "metadata": {},
     "output_type": "execute_result"
    }
   ],
   "source": [
    "data[['Salary','SalaryType', 'ConvertedSalary']]"
   ]
  },
  {
   "cell_type": "markdown",
   "metadata": {},
   "source": [
    "### 2- Salário deve ser sempre calculado em reais e mensal. Para esse cálculo você usará a coluna ConvertedSalary, que contém o salário anual. Considere que 1 dólar equivale a R$5,6.\n"
   ]
  },
  {
   "cell_type": "code",
   "execution_count": 13,
   "metadata": {},
   "outputs": [
    {
     "data": {
      "text/plain": [
       "0      280000.000\n",
       "1      445491.200\n",
       "2      700000.000\n",
       "3           0.000\n",
       "4           0.000\n",
       "          ...    \n",
       "9995        0.000\n",
       "9996   777862.400\n",
       "9997   280028.000\n",
       "9998        0.000\n",
       "9999   298138.400\n",
       "Name: ConvertedSalary, Length: 10000, dtype: float64"
      ]
     },
     "execution_count": 13,
     "metadata": {},
     "output_type": "execute_result"
    }
   ],
   "source": [
    "# Convertendo em reais coluna ConvertdSalary\n",
    "data['ConvertedSalary'] = data['ConvertedSalary'] * 5.60 \n",
    "data['ConvertedSalary']"
   ]
  },
  {
   "cell_type": "code",
   "execution_count": 14,
   "metadata": {},
   "outputs": [
    {
     "data": {
      "text/plain": [
       "0      23333.333\n",
       "1      37124.267\n",
       "2      58333.333\n",
       "3          0.000\n",
       "4          0.000\n",
       "          ...   \n",
       "9995       0.000\n",
       "9996   64821.867\n",
       "9997   23335.667\n",
       "9998       0.000\n",
       "9999   24844.867\n",
       "Name: Salary, Length: 10000, dtype: float64"
      ]
     },
     "execution_count": 14,
     "metadata": {},
     "output_type": "execute_result"
    }
   ],
   "source": [
    "# Convertendo coluna Salary usando os valores da coluna ConvertedSalary atualizando para reais\n",
    "data['Salary'] = data['ConvertedSalary']/12\n",
    "data['Salary']"
   ]
  },
  {
   "cell_type": "markdown",
   "metadata": {},
   "source": [
    "### 3- O nome dos respondentes deve seguir a regra respondente_[número], (ex: respondente_1, respondente_2, respondente_3).  O critério de geração desse número é todo seu."
   ]
  },
  {
   "cell_type": "code",
   "execution_count": 15,
   "metadata": {
    "scrolled": false
   },
   "outputs": [
    {
     "data": {
      "text/html": [
       "<div>\n",
       "<style scoped>\n",
       "    .dataframe tbody tr th:only-of-type {\n",
       "        vertical-align: middle;\n",
       "    }\n",
       "\n",
       "    .dataframe tbody tr th {\n",
       "        vertical-align: top;\n",
       "    }\n",
       "\n",
       "    .dataframe thead th {\n",
       "        text-align: right;\n",
       "    }\n",
       "</style>\n",
       "<table border=\"1\" class=\"dataframe\">\n",
       "  <thead>\n",
       "    <tr style=\"text-align: right;\">\n",
       "      <th></th>\n",
       "      <th>Respondent</th>\n",
       "      <th>Hobby</th>\n",
       "      <th>OpenSource</th>\n",
       "      <th>Country</th>\n",
       "      <th>Student</th>\n",
       "      <th>Employment</th>\n",
       "      <th>FormalEducation</th>\n",
       "      <th>UndergradMajor</th>\n",
       "      <th>CompanySize</th>\n",
       "      <th>DevType</th>\n",
       "      <th>...</th>\n",
       "      <th>Exercise</th>\n",
       "      <th>Gender</th>\n",
       "      <th>SexualOrientation</th>\n",
       "      <th>EducationParents</th>\n",
       "      <th>RaceEthnicity</th>\n",
       "      <th>Age</th>\n",
       "      <th>Dependents</th>\n",
       "      <th>MilitaryUS</th>\n",
       "      <th>SurveyTooLong</th>\n",
       "      <th>SurveyEasy</th>\n",
       "    </tr>\n",
       "  </thead>\n",
       "  <tbody>\n",
       "    <tr>\n",
       "      <th>0</th>\n",
       "      <td>Respondente_1</td>\n",
       "      <td>No</td>\n",
       "      <td>No</td>\n",
       "      <td>United States</td>\n",
       "      <td>No</td>\n",
       "      <td>Employed full-time</td>\n",
       "      <td>Bachelor’s degree (BA, BS, B.Eng., etc.)</td>\n",
       "      <td>A business discipline (ex. accounting, finance...</td>\n",
       "      <td>100 to 499 employees</td>\n",
       "      <td>Back-end developer</td>\n",
       "      <td>...</td>\n",
       "      <td>Daily or almost every day</td>\n",
       "      <td>Female</td>\n",
       "      <td>Straight or heterosexual</td>\n",
       "      <td>Bachelor’s degree (BA, BS, B.Eng., etc.)</td>\n",
       "      <td>White or of European descent</td>\n",
       "      <td>45 - 54 years old</td>\n",
       "      <td>Yes</td>\n",
       "      <td>No</td>\n",
       "      <td>The survey was an appropriate length</td>\n",
       "      <td>Somewhat easy</td>\n",
       "    </tr>\n",
       "    <tr>\n",
       "      <th>1</th>\n",
       "      <td>Respondente_2</td>\n",
       "      <td>Yes</td>\n",
       "      <td>No</td>\n",
       "      <td>Germany</td>\n",
       "      <td>No</td>\n",
       "      <td>Employed full-time</td>\n",
       "      <td>Bachelor’s degree (BA, BS, B.Eng., etc.)</td>\n",
       "      <td>Computer science, computer engineering, or sof...</td>\n",
       "      <td>1,000 to 4,999 employees</td>\n",
       "      <td>Back-end developer;Desktop or enterprise appli...</td>\n",
       "      <td>...</td>\n",
       "      <td>3 - 4 times per week</td>\n",
       "      <td>Male</td>\n",
       "      <td>Straight or heterosexual</td>\n",
       "      <td>Other doctoral degree (Ph.D, Ed.D., etc.)</td>\n",
       "      <td>White or of European descent</td>\n",
       "      <td>25 - 34 years old</td>\n",
       "      <td>No</td>\n",
       "      <td>NaN</td>\n",
       "      <td>The survey was too long</td>\n",
       "      <td>Neither easy nor difficult</td>\n",
       "    </tr>\n",
       "    <tr>\n",
       "      <th>2</th>\n",
       "      <td>Respondente_3</td>\n",
       "      <td>Yes</td>\n",
       "      <td>Yes</td>\n",
       "      <td>United States</td>\n",
       "      <td>No</td>\n",
       "      <td>Employed full-time</td>\n",
       "      <td>Bachelor’s degree (BA, BS, B.Eng., etc.)</td>\n",
       "      <td>Computer science, computer engineering, or sof...</td>\n",
       "      <td>10,000 or more employees</td>\n",
       "      <td>Back-end developer;Front-end developer;Full-st...</td>\n",
       "      <td>...</td>\n",
       "      <td>1 - 2 times per week</td>\n",
       "      <td>Male</td>\n",
       "      <td>Straight or heterosexual</td>\n",
       "      <td>Bachelor’s degree (BA, BS, B.Eng., etc.)</td>\n",
       "      <td>White or of European descent</td>\n",
       "      <td>25 - 34 years old</td>\n",
       "      <td>No</td>\n",
       "      <td>No</td>\n",
       "      <td>The survey was an appropriate length</td>\n",
       "      <td>Somewhat easy</td>\n",
       "    </tr>\n",
       "    <tr>\n",
       "      <th>3</th>\n",
       "      <td>Respondente_4</td>\n",
       "      <td>Yes</td>\n",
       "      <td>No</td>\n",
       "      <td>United States</td>\n",
       "      <td>Yes, full-time</td>\n",
       "      <td>Employed part-time</td>\n",
       "      <td>Secondary school (e.g. American high school, G...</td>\n",
       "      <td>NaN</td>\n",
       "      <td>10 to 19 employees</td>\n",
       "      <td>Front-end developer;QA or test developer;Student</td>\n",
       "      <td>...</td>\n",
       "      <td>I don't typically exercise</td>\n",
       "      <td>Male</td>\n",
       "      <td>Straight or heterosexual</td>\n",
       "      <td>Master’s degree (MA, MS, M.Eng., MBA, etc.)</td>\n",
       "      <td>Hispanic or Latino/Latina;White or of European...</td>\n",
       "      <td>18 - 24 years old</td>\n",
       "      <td>No</td>\n",
       "      <td>No</td>\n",
       "      <td>The survey was an appropriate length</td>\n",
       "      <td>Very easy</td>\n",
       "    </tr>\n",
       "    <tr>\n",
       "      <th>4</th>\n",
       "      <td>Respondente_5</td>\n",
       "      <td>Yes</td>\n",
       "      <td>Yes</td>\n",
       "      <td>Nepal</td>\n",
       "      <td>No</td>\n",
       "      <td>Employed full-time</td>\n",
       "      <td>Bachelor’s degree (BA, BS, B.Eng., etc.)</td>\n",
       "      <td>Computer science, computer engineering, or sof...</td>\n",
       "      <td>20 to 99 employees</td>\n",
       "      <td>Back-end developer;Designer;Desktop or enterpr...</td>\n",
       "      <td>...</td>\n",
       "      <td>1 - 2 times per week</td>\n",
       "      <td>Male</td>\n",
       "      <td>Straight or heterosexual</td>\n",
       "      <td>Master’s degree (MA, MS, M.Eng., MBA, etc.)</td>\n",
       "      <td>South Asian</td>\n",
       "      <td>18 - 24 years old</td>\n",
       "      <td>No</td>\n",
       "      <td>NaN</td>\n",
       "      <td>The survey was too long</td>\n",
       "      <td>Somewhat easy</td>\n",
       "    </tr>\n",
       "  </tbody>\n",
       "</table>\n",
       "<p>5 rows × 129 columns</p>\n",
       "</div>"
      ],
      "text/plain": [
       "      Respondent Hobby OpenSource        Country         Student  \\\n",
       "0  Respondente_1    No         No  United States              No   \n",
       "1  Respondente_2   Yes         No        Germany              No   \n",
       "2  Respondente_3   Yes        Yes  United States              No   \n",
       "3  Respondente_4   Yes         No  United States  Yes, full-time   \n",
       "4  Respondente_5   Yes        Yes          Nepal              No   \n",
       "\n",
       "           Employment                                    FormalEducation  \\\n",
       "0  Employed full-time           Bachelor’s degree (BA, BS, B.Eng., etc.)   \n",
       "1  Employed full-time           Bachelor’s degree (BA, BS, B.Eng., etc.)   \n",
       "2  Employed full-time           Bachelor’s degree (BA, BS, B.Eng., etc.)   \n",
       "3  Employed part-time  Secondary school (e.g. American high school, G...   \n",
       "4  Employed full-time           Bachelor’s degree (BA, BS, B.Eng., etc.)   \n",
       "\n",
       "                                      UndergradMajor  \\\n",
       "0  A business discipline (ex. accounting, finance...   \n",
       "1  Computer science, computer engineering, or sof...   \n",
       "2  Computer science, computer engineering, or sof...   \n",
       "3                                                NaN   \n",
       "4  Computer science, computer engineering, or sof...   \n",
       "\n",
       "                CompanySize  \\\n",
       "0      100 to 499 employees   \n",
       "1  1,000 to 4,999 employees   \n",
       "2  10,000 or more employees   \n",
       "3        10 to 19 employees   \n",
       "4        20 to 99 employees   \n",
       "\n",
       "                                             DevType  ...  \\\n",
       "0                                 Back-end developer  ...   \n",
       "1  Back-end developer;Desktop or enterprise appli...  ...   \n",
       "2  Back-end developer;Front-end developer;Full-st...  ...   \n",
       "3   Front-end developer;QA or test developer;Student  ...   \n",
       "4  Back-end developer;Designer;Desktop or enterpr...  ...   \n",
       "\n",
       "                     Exercise  Gender         SexualOrientation  \\\n",
       "0   Daily or almost every day  Female  Straight or heterosexual   \n",
       "1        3 - 4 times per week    Male  Straight or heterosexual   \n",
       "2        1 - 2 times per week    Male  Straight or heterosexual   \n",
       "3  I don't typically exercise    Male  Straight or heterosexual   \n",
       "4        1 - 2 times per week    Male  Straight or heterosexual   \n",
       "\n",
       "                              EducationParents  \\\n",
       "0     Bachelor’s degree (BA, BS, B.Eng., etc.)   \n",
       "1    Other doctoral degree (Ph.D, Ed.D., etc.)   \n",
       "2     Bachelor’s degree (BA, BS, B.Eng., etc.)   \n",
       "3  Master’s degree (MA, MS, M.Eng., MBA, etc.)   \n",
       "4  Master’s degree (MA, MS, M.Eng., MBA, etc.)   \n",
       "\n",
       "                                       RaceEthnicity                Age  \\\n",
       "0                       White or of European descent  45 - 54 years old   \n",
       "1                       White or of European descent  25 - 34 years old   \n",
       "2                       White or of European descent  25 - 34 years old   \n",
       "3  Hispanic or Latino/Latina;White or of European...  18 - 24 years old   \n",
       "4                                        South Asian  18 - 24 years old   \n",
       "\n",
       "  Dependents  MilitaryUS                         SurveyTooLong  \\\n",
       "0        Yes          No  The survey was an appropriate length   \n",
       "1         No         NaN               The survey was too long   \n",
       "2         No          No  The survey was an appropriate length   \n",
       "3         No          No  The survey was an appropriate length   \n",
       "4         No         NaN               The survey was too long   \n",
       "\n",
       "                   SurveyEasy  \n",
       "0               Somewhat easy  \n",
       "1  Neither easy nor difficult  \n",
       "2               Somewhat easy  \n",
       "3                   Very easy  \n",
       "4               Somewhat easy  \n",
       "\n",
       "[5 rows x 129 columns]"
      ]
     },
     "execution_count": 15,
     "metadata": {},
     "output_type": "execute_result"
    }
   ],
   "source": [
    "# Usando list Comprehensins para mudar os valores da coluna conforme solicitado\n",
    "data['Respondent'] = [f'Respondente_{x}' for x in range(1,len(data)+1)]  \n",
    "data.head()"
   ]
  },
  {
   "cell_type": "code",
   "execution_count": null,
   "metadata": {},
   "outputs": [],
   "source": []
  },
  {
   "cell_type": "code",
   "execution_count": null,
   "metadata": {},
   "outputs": [],
   "source": []
  },
  {
   "cell_type": "markdown",
   "metadata": {},
   "source": [
    "### 4- Cada linha da tabela linguagem_programacao deve conter uma única linguagem de programação"
   ]
  },
  {
   "cell_type": "code",
   "execution_count": 16,
   "metadata": {
    "scrolled": false
   },
   "outputs": [
    {
     "data": {
      "text/plain": [
       "0                              C#;JavaScript;SQL;HTML;CSS\n",
       "1                      C;C++;Java;JavaScript;SQL;HTML;CSS\n",
       "2       Assembly;C;C++;C#;Java;JavaScript;PHP;SQL;Type...\n",
       "3          C++;Java;JavaScript;Python;HTML;CSS;Bash/Shell\n",
       "4           C;C++;Java;JavaScript;PHP;Python;SQL;HTML;CSS\n",
       "                              ...                        \n",
       "9995                                                 Java\n",
       "9996                           C#;JavaScript;SQL;HTML;CSS\n",
       "9997                  Matlab;Perl;Python;R;VBA;Bash/Shell\n",
       "9998                                                  NaN\n",
       "9999                                               C;Java\n",
       "Name: LanguageWorkedWith, Length: 10000, dtype: object"
      ]
     },
     "execution_count": 16,
     "metadata": {},
     "output_type": "execute_result"
    }
   ],
   "source": [
    "# Visualizando os dados da coluna LanguageWorkedWith\n",
    "data['LanguageWorkedWith']"
   ]
  },
  {
   "cell_type": "code",
   "execution_count": 17,
   "metadata": {
    "scrolled": true
   },
   "outputs": [
    {
     "data": {
      "text/plain": [
       "0             C#\n",
       "1              C\n",
       "2       Assembly\n",
       "3            C++\n",
       "4              C\n",
       "          ...   \n",
       "9995        Java\n",
       "9996          C#\n",
       "9997      Matlab\n",
       "9998         nan\n",
       "9999           C\n",
       "Name: LanguageWorkedWith, Length: 10000, dtype: object"
      ]
     },
     "execution_count": 17,
     "metadata": {},
     "output_type": "execute_result"
    }
   ],
   "source": [
    "# Usando função split para quebrar string a partir do ';'\n",
    "data['LanguageWorkedWith'] = [str(x).split(';')[0] for x in data.LanguageWorkedWith]\n",
    "data['LanguageWorkedWith']"
   ]
  },
  {
   "cell_type": "code",
   "execution_count": 18,
   "metadata": {},
   "outputs": [
    {
     "data": {
      "image/png": "[encoded data removed]",
      "text/plain": [
       "<Figure size 720x576 with 1 Axes>"
      ]
     },
     "metadata": {
      "needs_background": "light"
     },
     "output_type": "display_data"
    }
   ],
   "source": [
    "# grafico com o agrupamento dos valores \n",
    "df = data.groupby('LanguageWorkedWith').size()\n",
    "df.plot.bar(xlabel= 'Linguagem de Programação', ylabel='Número de Usuários', figsize=(10,8)).set_title('Quantidade de Usuario por linguagem de programaçao');"
   ]
  },
  {
   "cell_type": "code",
   "execution_count": null,
   "metadata": {},
   "outputs": [],
   "source": []
  },
  {
   "cell_type": "code",
   "execution_count": null,
   "metadata": {},
   "outputs": [],
   "source": []
  },
  {
   "cell_type": "markdown",
   "metadata": {},
   "source": [
    "### 5- Cada linha da tabela ferramenta_comunic deve conter apenas uma ferramenta de comunicação."
   ]
  },
  {
   "cell_type": "code",
   "execution_count": 19,
   "metadata": {
    "scrolled": true
   },
   "outputs": [
    {
     "data": {
      "text/plain": [
       "0                                                   Slack\n",
       "1       Jira;Other wiki tool (Github, Google Sites, pr...\n",
       "2       Office / productivity suite (Microsoft Office,...\n",
       "3                                            Slack;Trello\n",
       "4                                            Slack;Trello\n",
       "                              ...                        \n",
       "9995                   Facebook;Stack Overflow Enterprise\n",
       "9996    Confluence;Google Hangouts/Chat;Jira;Office / ...\n",
       "9997              Confluence;Google Hangouts/Chat;HipChat\n",
       "9998                                                  NaN\n",
       "9999    Confluence;Office / productivity suite (Micros...\n",
       "Name: CommunicationTools, Length: 10000, dtype: object"
      ]
     },
     "execution_count": 19,
     "metadata": {},
     "output_type": "execute_result"
    }
   ],
   "source": [
    "# Visualizando os dados da coluna CommunicationTools\n",
    "data['CommunicationTools']"
   ]
  },
  {
   "cell_type": "code",
   "execution_count": 20,
   "metadata": {
    "scrolled": true
   },
   "outputs": [
    {
     "data": {
      "text/plain": [
       "0                              Slack\n",
       "1                               Jira\n",
       "2       Office / productivity suite \n",
       "3                              Slack\n",
       "4                              Slack\n",
       "                    ...             \n",
       "9995                        Facebook\n",
       "9996                      Confluence\n",
       "9997                      Confluence\n",
       "9998                             nan\n",
       "9999                      Confluence\n",
       "Name: CommunicationTools, Length: 10000, dtype: object"
      ]
     },
     "execution_count": 20,
     "metadata": {},
     "output_type": "execute_result"
    }
   ],
   "source": [
    "# Convertendo caracteres \n",
    "data['CommunicationTools'] = [str(x).replace(\"(\", \";\") for x in data.CommunicationTools]\n",
    "\n",
    "# Usando função split para quebrar string a partir do ';' e retornar uma unica ferramenta de comunicação\n",
    "data['CommunicationTools'] = [str(x).split(';')[0] for x in data.CommunicationTools]\n",
    "data['CommunicationTools']"
   ]
  },
  {
   "cell_type": "code",
   "execution_count": 21,
   "metadata": {},
   "outputs": [
    {
     "data": {
      "text/plain": [
       "CommunicationTools\n",
       "Confluence                      2245\n",
       "Facebook                         486\n",
       "Google Hangouts/Chat             986\n",
       "HipChat                          101\n",
       "Jira                             839\n",
       "Office / productivity suite     1176\n",
       "Other chat system                278\n",
       "Other wiki tool                  115\n",
       "Slack                            896\n",
       "Stack Overflow Enterprise         24\n",
       "Trello                            84\n",
       "nan                             2770\n",
       "dtype: int64"
      ]
     },
     "execution_count": 21,
     "metadata": {},
     "output_type": "execute_result"
    }
   ],
   "source": [
    "# Retornando valores agrupados\n",
    "data.groupby('CommunicationTools').size()"
   ]
  },
  {
   "cell_type": "code",
   "execution_count": 22,
   "metadata": {},
   "outputs": [
    {
     "data": {
      "image/png": "[encoded data removed]",
      "text/plain": [
       "<Figure size 720x576 with 1 Axes>"
      ]
     },
     "metadata": {
      "needs_background": "light"
     },
     "output_type": "display_data"
    }
   ],
   "source": [
    "# Grafico com valores agrupados\n",
    "df1 = data.groupby('CommunicationTools').size()\n",
    "df1.plot.bar(xlabel= 'Ferramentas de Comunição', ylabel='Número de Usuários', figsize=(10,8)).set_title('Número de Usuario por Ferramenta de Comunicação');\n"
   ]
  },
  {
   "cell_type": "code",
   "execution_count": null,
   "metadata": {},
   "outputs": [],
   "source": []
  },
  {
   "cell_type": "code",
   "execution_count": null,
   "metadata": {},
   "outputs": [],
   "source": []
  },
  {
   "cell_type": "code",
   "execution_count": null,
   "metadata": {},
   "outputs": [],
   "source": []
  },
  {
   "cell_type": "markdown",
   "metadata": {},
   "source": [
    "### 1- Qual a quantidade de respondentes de cada país?"
   ]
  },
  {
   "cell_type": "code",
   "execution_count": 23,
   "metadata": {},
   "outputs": [
    {
     "data": {
      "text/plain": [
       "Country\n",
       "Cameroon                                        1\n",
       "Honduras                                        1\n",
       "Fiji                                            1\n",
       "Iraq                                            1\n",
       "Jamaica                                         1\n",
       "Kuwait                                          1\n",
       "Congo, Republic of the...                       1\n",
       "Mozambique                                      1\n",
       "Myanmar                                         1\n",
       "Namibia                                         1\n",
       "Oman                                            1\n",
       "Botswana                                        1\n",
       "Ghana                                           1\n",
       "Turkmenistan                                    1\n",
       "Senegal                                         1\n",
       "Togo                                            1\n",
       "Bahrain                                         1\n",
       "Angola                                          1\n",
       "Solomon Islands                                 1\n",
       "Sudan                                           1\n",
       "Swaziland                                       1\n",
       "Rwanda                                          1\n",
       "Mauritius                                       2\n",
       "United Republic of Tanzania                     2\n",
       "Iceland                                         2\n",
       "Liechtenstein                                   2\n",
       "Yemen                                           2\n",
       "Maldives                                        2\n",
       "Afghanistan                                     2\n",
       "Montenegro                                      2\n",
       "Qatar                                           2\n",
       "Bolivia                                         2\n",
       "Syrian Arab Republic                            3\n",
       "Guatemala                                       3\n",
       "El Salvador                                     3\n",
       "Republic of Korea                               3\n",
       "Nicaragua                                       4\n",
       "Kyrgyzstan                                      4\n",
       "The former Yugoslav Republic of Macedonia       4\n",
       "Paraguay                                        4\n",
       "Malta                                           4\n",
       "Republic of Moldova                             4\n",
       "Zimbabwe                                        4\n",
       "Ethiopia                                        4\n",
       "Armenia                                         5\n",
       "Ecuador                                         5\n",
       "Cuba                                            5\n",
       "Mongolia                                        5\n",
       "Jordan                                          5\n",
       "Panama                                          5\n",
       "Bosnia and Herzegovina                          5\n",
       "Andorra                                         5\n",
       "Madagascar                                      5\n",
       "Algeria                                         5\n",
       "Albania                                         5\n",
       "Uruguay                                         5\n",
       "Uzbekistan                                      5\n",
       "Tunisia                                         5\n",
       "Azerbaijan                                      6\n",
       "Uganda                                          6\n",
       "Cambodia                                        6\n",
       "Venezuela, Bolivarian Republic of...            7\n",
       "Georgia                                         7\n",
       "Cyprus                                          8\n",
       "Other Country (Not Listed Above)                9\n",
       "Luxembourg                                     10\n",
       "Dominican Republic                             11\n",
       "Costa Rica                                     11\n",
       "Kazakhstan                                     12\n",
       "Lebanon                                        12\n",
       "Kenya                                          14\n",
       "Peru                                           15\n",
       "Saudi Arabia                                   15\n",
       "Taiwan                                         16\n",
       "Morocco                                        17\n",
       "South Korea                                    17\n",
       "Latvia                                         19\n",
       "United Arab Emirates                           21\n",
       "Hong Kong (S.A.R.)                             22\n",
       "Estonia                                        23\n",
       "Thailand                                       24\n",
       "Slovakia                                       24\n",
       "Viet Nam                                       25\n",
       "Croatia                                        25\n",
       "Chile                                          28\n",
       "Malaysia                                       28\n",
       "Lithuania                                      29\n",
       "Nepal                                          30\n",
       "Slovenia                                       31\n",
       "Serbia                                         31\n",
       "Belarus                                        31\n",
       "Egypt                                          33\n",
       "Colombia                                       33\n",
       "Sri Lanka                                      35\n",
       "Singapore                                      37\n",
       "Japan                                          39\n",
       "Hungary                                        39\n",
       "Nigeria                                        39\n",
       "Philippines                                    40\n",
       "Bulgaria                                       44\n",
       "Indonesia                                      50\n",
       "Argentina                                      52\n",
       "Portugal                                       54\n",
       "Greece                                         55\n",
       "Bangladesh                                     58\n",
       "Finland                                        59\n",
       "Norway                                         60\n",
       "New Zealand                                    60\n",
       "Ireland                                        63\n",
       "Denmark                                        66\n",
       "South Africa                                   71\n",
       "Czech Republic                                 72\n",
       "Austria                                        72\n",
       "Belgium                                        80\n",
       "Romania                                        84\n",
       "Pakistan                                       87\n",
       "Mexico                                         88\n",
       "Iran, Islamic Republic of...                   89\n",
       "China                                          92\n",
       "Turkey                                         98\n",
       "Israel                                        101\n",
       "Switzerland                                   107\n",
       "Ukraine                                       109\n",
       "Sweden                                        129\n",
       "Italy                                         166\n",
       "Netherlands                                   193\n",
       "Australia                                     194\n",
       "Spain                                         203\n",
       "Poland                                        233\n",
       "Brazil                                        255\n",
       "Russian Federation                            270\n",
       "France                                        278\n",
       "Canada                                        360\n",
       "Germany                                       655\n",
       "United Kingdom                                749\n",
       "India                                        1124\n",
       "United States                                2350\n",
       "dtype: int64"
      ]
     },
     "metadata": {},
     "output_type": "display_data"
    }
   ],
   "source": [
    "# Retornar os valores de respondentes por cada pais \n",
    "data_country = data[['Respondent','Country']].groupby('Country').size().sort_values(ascending=True)\n",
    "\n",
    "# Expressão deixa o display sem valor para impressão na qual vai apresentar todos os resultados\n",
    "with pd.option_context('display.max_rows', None, 'display.max_columns', None): \n",
    "    display(data_country)"
   ]
  },
  {
   "cell_type": "code",
   "execution_count": null,
   "metadata": {},
   "outputs": [],
   "source": []
  },
  {
   "cell_type": "code",
   "execution_count": null,
   "metadata": {},
   "outputs": [],
   "source": []
  },
  {
   "cell_type": "markdown",
   "metadata": {},
   "source": [
    "### 2- Quantos usuários que moram em \"United States\" gostam de Windows?"
   ]
  },
  {
   "cell_type": "code",
   "execution_count": 24,
   "metadata": {},
   "outputs": [
    {
     "data": {
      "text/plain": [
       "OperatingSystem\n",
       "BSD/Unix         17\n",
       "Linux-based    1892\n",
       "MacOS          2496\n",
       "Windows        4215\n",
       "dtype: int64"
      ]
     },
     "execution_count": 24,
     "metadata": {},
     "output_type": "execute_result"
    }
   ],
   "source": [
    "# Verificando os valores por OperatingSystem\n",
    "data.groupby('OperatingSystem').size()"
   ]
  },
  {
   "cell_type": "code",
   "execution_count": 25,
   "metadata": {},
   "outputs": [
    {
     "data": {
      "text/plain": [
       "961"
      ]
     },
     "execution_count": 25,
     "metadata": {},
     "output_type": "execute_result"
    }
   ],
   "source": [
    "# Usando o groupby para retornar o valor de usuarios de windows nos Estados Unidos usando expressão booleana\n",
    "len(data.query('Country == \"United States\" & OperatingSystem == \"Windows\"'))"
   ]
  },
  {
   "cell_type": "code",
   "execution_count": null,
   "metadata": {},
   "outputs": [],
   "source": []
  },
  {
   "cell_type": "code",
   "execution_count": null,
   "metadata": {},
   "outputs": [],
   "source": []
  },
  {
   "cell_type": "markdown",
   "metadata": {},
   "source": [
    "### 3- Qual a média de salário dos usuários que moram em Israel e gostam de Linux?"
   ]
  },
  {
   "cell_type": "code",
   "execution_count": 26,
   "metadata": {},
   "outputs": [
    {
     "data": {
      "text/plain": [
       "28335.336842105266"
      ]
     },
     "execution_count": 26,
     "metadata": {},
     "output_type": "execute_result"
    }
   ],
   "source": [
    "# Usando loc para retornar todos os usuarios que moram em Israel e usam Linux\n",
    "data.loc[(data['Country'] == 'Israel') & (data['OperatingSystem'] == 'Linux-based')]['Salary'].mean()"
   ]
  },
  {
   "cell_type": "code",
   "execution_count": null,
   "metadata": {},
   "outputs": [],
   "source": []
  },
  {
   "cell_type": "code",
   "execution_count": null,
   "metadata": {},
   "outputs": [],
   "source": []
  },
  {
   "cell_type": "markdown",
   "metadata": {},
   "source": [
    "### 4- Qual a média e o desvio padrão do salário dos usuários que usam Slack para cada tamanho de empresa disponível?"
   ]
  },
  {
   "cell_type": "code",
   "execution_count": 27,
   "metadata": {},
   "outputs": [
    {
     "data": {
      "text/plain": [
       "CompanySize\n",
       "5,000 to 9,999 employees     331\n",
       "500 to 999 employees         489\n",
       "Fewer than 10 employees      801\n",
       "10 to 19 employees           812\n",
       "1,000 to 4,999 employees     889\n",
       "10,000 or more employees    1065\n",
       "100 to 499 employees        1549\n",
       "20 to 99 employees          1916\n",
       "dtype: int64"
      ]
     },
     "execution_count": 27,
     "metadata": {},
     "output_type": "execute_result"
    }
   ],
   "source": [
    "# Explorando valores da coluna CompanySize\n",
    "data.groupby('CompanySize').size().sort_values(ascending=True)"
   ]
  },
  {
   "cell_type": "code",
   "execution_count": 28,
   "metadata": {},
   "outputs": [
    {
     "data": {
      "text/html": [
       "<div>\n",
       "<style scoped>\n",
       "    .dataframe tbody tr th:only-of-type {\n",
       "        vertical-align: middle;\n",
       "    }\n",
       "\n",
       "    .dataframe tbody tr th {\n",
       "        vertical-align: top;\n",
       "    }\n",
       "\n",
       "    .dataframe thead th {\n",
       "        text-align: right;\n",
       "    }\n",
       "</style>\n",
       "<table border=\"1\" class=\"dataframe\">\n",
       "  <thead>\n",
       "    <tr style=\"text-align: right;\">\n",
       "      <th></th>\n",
       "      <th>CompanySize</th>\n",
       "      <th>count</th>\n",
       "      <th>mean</th>\n",
       "      <th>std</th>\n",
       "      <th>min</th>\n",
       "      <th>25%</th>\n",
       "      <th>50%</th>\n",
       "      <th>75%</th>\n",
       "      <th>max</th>\n",
       "    </tr>\n",
       "  </thead>\n",
       "  <tbody>\n",
       "    <tr>\n",
       "      <th>0</th>\n",
       "      <td>1,000 to 4,999 employees</td>\n",
       "      <td>54.000</td>\n",
       "      <td>36653.685</td>\n",
       "      <td>47930.416</td>\n",
       "      <td>0.000</td>\n",
       "      <td>13615.700</td>\n",
       "      <td>28297.033</td>\n",
       "      <td>42700.000</td>\n",
       "      <td>336000.000</td>\n",
       "    </tr>\n",
       "    <tr>\n",
       "      <th>1</th>\n",
       "      <td>10 to 19 employees</td>\n",
       "      <td>143.000</td>\n",
       "      <td>32468.908</td>\n",
       "      <td>92925.268</td>\n",
       "      <td>0.000</td>\n",
       "      <td>5345.200</td>\n",
       "      <td>16150.400</td>\n",
       "      <td>32610.900</td>\n",
       "      <td>933333.333</td>\n",
       "    </tr>\n",
       "    <tr>\n",
       "      <th>2</th>\n",
       "      <td>10,000 or more employees</td>\n",
       "      <td>56.000</td>\n",
       "      <td>40878.875</td>\n",
       "      <td>70185.559</td>\n",
       "      <td>0.000</td>\n",
       "      <td>13641.250</td>\n",
       "      <td>29420.767</td>\n",
       "      <td>44333.333</td>\n",
       "      <td>466666.667</td>\n",
       "    </tr>\n",
       "    <tr>\n",
       "      <th>3</th>\n",
       "      <td>100 to 499 employees</td>\n",
       "      <td>121.000</td>\n",
       "      <td>40274.710</td>\n",
       "      <td>92023.268</td>\n",
       "      <td>0.000</td>\n",
       "      <td>11967.200</td>\n",
       "      <td>23988.067</td>\n",
       "      <td>42000.000</td>\n",
       "      <td>933333.333</td>\n",
       "    </tr>\n",
       "    <tr>\n",
       "      <th>4</th>\n",
       "      <td>20 to 99 employees</td>\n",
       "      <td>207.000</td>\n",
       "      <td>45347.952</td>\n",
       "      <td>89924.527</td>\n",
       "      <td>0.000</td>\n",
       "      <td>6389.600</td>\n",
       "      <td>20563.200</td>\n",
       "      <td>38113.133</td>\n",
       "      <td>466666.667</td>\n",
       "    </tr>\n",
       "    <tr>\n",
       "      <th>5</th>\n",
       "      <td>5,000 to 9,999 employees</td>\n",
       "      <td>21.000</td>\n",
       "      <td>84287.578</td>\n",
       "      <td>198288.800</td>\n",
       "      <td>0.000</td>\n",
       "      <td>19990.133</td>\n",
       "      <td>25701.667</td>\n",
       "      <td>56526.400</td>\n",
       "      <td>933333.333</td>\n",
       "    </tr>\n",
       "    <tr>\n",
       "      <th>6</th>\n",
       "      <td>500 to 999 employees</td>\n",
       "      <td>36.000</td>\n",
       "      <td>26980.774</td>\n",
       "      <td>17951.131</td>\n",
       "      <td>0.000</td>\n",
       "      <td>13559.000</td>\n",
       "      <td>27970.133</td>\n",
       "      <td>35583.333</td>\n",
       "      <td>77000.000</td>\n",
       "    </tr>\n",
       "    <tr>\n",
       "      <th>7</th>\n",
       "      <td>Fewer than 10 employees</td>\n",
       "      <td>131.000</td>\n",
       "      <td>28272.291</td>\n",
       "      <td>54406.765</td>\n",
       "      <td>0.000</td>\n",
       "      <td>5653.200</td>\n",
       "      <td>16205.467</td>\n",
       "      <td>33127.733</td>\n",
       "      <td>408738.400</td>\n",
       "    </tr>\n",
       "  </tbody>\n",
       "</table>\n",
       "</div>"
      ],
      "text/plain": [
       "                CompanySize   count      mean        std   min       25%  \\\n",
       "0  1,000 to 4,999 employees  54.000 36653.685  47930.416 0.000 13615.700   \n",
       "1        10 to 19 employees 143.000 32468.908  92925.268 0.000  5345.200   \n",
       "2  10,000 or more employees  56.000 40878.875  70185.559 0.000 13641.250   \n",
       "3      100 to 499 employees 121.000 40274.710  92023.268 0.000 11967.200   \n",
       "4        20 to 99 employees 207.000 45347.952  89924.527 0.000  6389.600   \n",
       "5  5,000 to 9,999 employees  21.000 84287.578 198288.800 0.000 19990.133   \n",
       "6      500 to 999 employees  36.000 26980.774  17951.131 0.000 13559.000   \n",
       "7   Fewer than 10 employees 131.000 28272.291  54406.765 0.000  5653.200   \n",
       "\n",
       "        50%       75%        max  \n",
       "0 28297.033 42700.000 336000.000  \n",
       "1 16150.400 32610.900 933333.333  \n",
       "2 29420.767 44333.333 466666.667  \n",
       "3 23988.067 42000.000 933333.333  \n",
       "4 20563.200 38113.133 466666.667  \n",
       "5 25701.667 56526.400 933333.333  \n",
       "6 27970.133 35583.333  77000.000  \n",
       "7 16205.467 33127.733 408738.400  "
      ]
     },
     "execution_count": 28,
     "metadata": {},
     "output_type": "execute_result"
    }
   ],
   "source": [
    "# Usando query para retornar o salario de cada funcionario que usar Slack pelo tamanho da empresa\n",
    "data.query('CommunicationTools == \"Slack\"').groupby('CompanySize')['Salary'].describe().reset_index()"
   ]
  },
  {
   "cell_type": "code",
   "execution_count": null,
   "metadata": {},
   "outputs": [],
   "source": []
  },
  {
   "cell_type": "code",
   "execution_count": null,
   "metadata": {},
   "outputs": [],
   "source": []
  },
  {
   "cell_type": "code",
   "execution_count": 29,
   "metadata": {},
   "outputs": [],
   "source": [
    "# Exportando um arquivo menor com as colunas a serem usadas no banco de dados "
   ]
  },
  {
   "cell_type": "code",
   "execution_count": 30,
   "metadata": {},
   "outputs": [],
   "source": [
    "# df = data[['Respondent', 'OpenSource', 'Hobby', 'ConvertedSalary', 'CommunicationTools', 'LanguageWorkedWith', 'OperatingSystem', 'CompanySize', 'Country']]"
   ]
  },
  {
   "cell_type": "code",
   "execution_count": 31,
   "metadata": {},
   "outputs": [],
   "source": [
    "df.to_csv('base_amostra_10k.csv', sep=',', index=False)"
   ]
  },
  {
   "cell_type": "code",
   "execution_count": 32,
   "metadata": {},
   "outputs": [],
   "source": [
    "data_df = pd.read_csv('carga_db.csv')"
   ]
  },
  {
   "cell_type": "code",
   "execution_count": 33,
   "metadata": {},
   "outputs": [
    {
     "data": {
      "text/html": [
       "<div>\n",
       "<style scoped>\n",
       "    .dataframe tbody tr th:only-of-type {\n",
       "        vertical-align: middle;\n",
       "    }\n",
       "\n",
       "    .dataframe tbody tr th {\n",
       "        vertical-align: top;\n",
       "    }\n",
       "\n",
       "    .dataframe thead th {\n",
       "        text-align: right;\n",
       "    }\n",
       "</style>\n",
       "<table border=\"1\" class=\"dataframe\">\n",
       "  <thead>\n",
       "    <tr style=\"text-align: right;\">\n",
       "      <th></th>\n",
       "      <th>Respondent</th>\n",
       "      <th>OpenSource</th>\n",
       "      <th>Hobby</th>\n",
       "      <th>ConvertedSalary</th>\n",
       "      <th>CommunicationTools</th>\n",
       "      <th>LanguageWorkedWith</th>\n",
       "      <th>OperatingSystem</th>\n",
       "      <th>CompanySize</th>\n",
       "      <th>Country</th>\n",
       "    </tr>\n",
       "  </thead>\n",
       "  <tbody>\n",
       "    <tr>\n",
       "      <th>0</th>\n",
       "      <td>Respondente_1</td>\n",
       "      <td>No</td>\n",
       "      <td>No</td>\n",
       "      <td>280000.000</td>\n",
       "      <td>Slack</td>\n",
       "      <td>C#</td>\n",
       "      <td>Windows</td>\n",
       "      <td>100 to 499 employees</td>\n",
       "      <td>United States</td>\n",
       "    </tr>\n",
       "    <tr>\n",
       "      <th>1</th>\n",
       "      <td>Respondente_2</td>\n",
       "      <td>No</td>\n",
       "      <td>Yes</td>\n",
       "      <td>445491.200</td>\n",
       "      <td>Jira</td>\n",
       "      <td>C</td>\n",
       "      <td>Windows</td>\n",
       "      <td>1,000 to 4,999 employees</td>\n",
       "      <td>Germany</td>\n",
       "    </tr>\n",
       "    <tr>\n",
       "      <th>2</th>\n",
       "      <td>Respondente_3</td>\n",
       "      <td>Yes</td>\n",
       "      <td>Yes</td>\n",
       "      <td>700000.000</td>\n",
       "      <td>Office / productivity suite</td>\n",
       "      <td>Assembly</td>\n",
       "      <td>Windows</td>\n",
       "      <td>10,000 or more employees</td>\n",
       "      <td>United States</td>\n",
       "    </tr>\n",
       "    <tr>\n",
       "      <th>3</th>\n",
       "      <td>Respondente_4</td>\n",
       "      <td>No</td>\n",
       "      <td>Yes</td>\n",
       "      <td>0.000</td>\n",
       "      <td>Slack</td>\n",
       "      <td>C++</td>\n",
       "      <td>MacOS</td>\n",
       "      <td>10 to 19 employees</td>\n",
       "      <td>United States</td>\n",
       "    </tr>\n",
       "    <tr>\n",
       "      <th>4</th>\n",
       "      <td>Respondente_5</td>\n",
       "      <td>Yes</td>\n",
       "      <td>Yes</td>\n",
       "      <td>0.000</td>\n",
       "      <td>Slack</td>\n",
       "      <td>C</td>\n",
       "      <td>Windows</td>\n",
       "      <td>20 to 99 employees</td>\n",
       "      <td>Nepal</td>\n",
       "    </tr>\n",
       "  </tbody>\n",
       "</table>\n",
       "</div>"
      ],
      "text/plain": [
       "      Respondent OpenSource Hobby  ConvertedSalary  \\\n",
       "0  Respondente_1         No    No       280000.000   \n",
       "1  Respondente_2         No   Yes       445491.200   \n",
       "2  Respondente_3        Yes   Yes       700000.000   \n",
       "3  Respondente_4         No   Yes            0.000   \n",
       "4  Respondente_5        Yes   Yes            0.000   \n",
       "\n",
       "             CommunicationTools LanguageWorkedWith OperatingSystem  \\\n",
       "0                         Slack                 C#         Windows   \n",
       "1                          Jira                  C         Windows   \n",
       "2  Office / productivity suite            Assembly         Windows   \n",
       "3                         Slack                C++           MacOS   \n",
       "4                         Slack                  C         Windows   \n",
       "\n",
       "                CompanySize        Country  \n",
       "0      100 to 499 employees  United States  \n",
       "1  1,000 to 4,999 employees        Germany  \n",
       "2  10,000 or more employees  United States  \n",
       "3        10 to 19 employees  United States  \n",
       "4        20 to 99 employees          Nepal  "
      ]
     },
     "execution_count": 33,
     "metadata": {},
     "output_type": "execute_result"
    }
   ],
   "source": [
    "data_df.head()"
   ]
  },
  {
   "cell_type": "code",
   "execution_count": null,
   "metadata": {},
   "outputs": [],
   "source": []
  },
  {
   "cell_type": "code",
   "execution_count": null,
   "metadata": {},
   "outputs": [],
   "source": []
  },
  {
   "cell_type": "code",
   "execution_count": null,
   "metadata": {},
   "outputs": [],
   "source": []
  }
 ],
 "metadata": {
  "kernelspec": {
   "display_name": "Python 3",
   "language": "python",
   "name": "python3"
  },
  "language_info": {
   "codemirror_mode": {
    "name": "ipython",
    "version": 3
   },
   "file_extension": ".py",
   "mimetype": "text/x-python",
   "name": "python",
   "nbconvert_exporter": "python",
   "pygments_lexer": "ipython3",
   "version": "3.8.5"
  }
 },
 "nbformat": 4,
 "nbformat_minor": 4
}
